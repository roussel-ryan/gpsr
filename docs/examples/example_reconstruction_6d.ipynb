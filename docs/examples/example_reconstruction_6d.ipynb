{
 "cells": [
  {
   "cell_type": "markdown",
   "metadata": {},
   "source": [
    "# PS reconstruction, Gaussian beam"
   ]
  },
  {
   "cell_type": "code",
   "execution_count": null,
   "metadata": {
    "ExecuteTime": {
     "end_time": "2024-12-17T15:38:53.955439800Z",
     "start_time": "2024-12-17T15:38:50.771088500Z"
    },
    "tags": []
   },
   "outputs": [],
   "source": [
    "import numpy as np\n",
    "import torch\n",
    "import lightning as L\n",
    "\n",
    "from gpsr.datasets import SixDReconstructionDataset, split_dataset\n",
    "from gpsr.modeling import GPSR6DLattice, GPSR\n",
    "from gpsr.train import LitGPSR\n",
    "from gpsr.beams import NNParticleBeamGenerator"
   ]
  },
  {
   "cell_type": "markdown",
   "metadata": {},
   "source": [
    "## Import data"
   ]
  },
  {
   "cell_type": "code",
   "execution_count": null,
   "metadata": {
    "ExecuteTime": {
     "end_time": "2024-12-17T15:38:56.878350700Z",
     "start_time": "2024-12-17T15:38:53.957440100Z"
    },
    "collapsed": false,
    "jupyter": {
     "outputs_hidden": false
    }
   },
   "outputs": [],
   "source": [
    "dset = torch.load(\n",
    "    \"example_data/example_datasets/reconstruction_6D.dset\", weights_only=False\n",
    ")\n",
    "\n",
    "print(\n",
    "    dset.parameters.shape,\n",
    "    dset.six_d_parameters.shape,\n",
    "    dset.observations[0].shape,\n",
    "    dset.six_d_observations[0].shape,\n",
    "    type(dset.screens[0]),\n",
    ")\n",
    "\n",
    "dset.plot_data(publication_size=True);"
   ]
  },
  {
   "cell_type": "code",
   "execution_count": null,
   "metadata": {},
   "outputs": [],
   "source": [
    "train_k_ids = np.arange(0, len(dset.six_d_parameters), 2)\n",
    "train_dset, test_dset = split_dataset(dset, train_k_ids)"
   ]
  },
  {
   "cell_type": "code",
   "execution_count": null,
   "metadata": {},
   "outputs": [],
   "source": [
    "train_dset.plot_data(publication_size=True);"
   ]
  },
  {
   "cell_type": "code",
   "execution_count": null,
   "metadata": {},
   "outputs": [],
   "source": [
    "test_dset.plot_data(publication_size=True);"
   ]
  },
  {
   "cell_type": "markdown",
   "metadata": {},
   "source": [
    "## Set up diagnostic lattice in cheetah\n",
    "These parameters match those at the Argonne Wakefield Accelerator (AWA) and were used\n",
    " to generate the synthetic example dataset."
   ]
  },
  {
   "cell_type": "code",
   "execution_count": null,
   "metadata": {
    "ExecuteTime": {
     "end_time": "2024-12-17T15:38:56.910951100Z",
     "start_time": "2024-12-17T15:38:56.881351400Z"
    },
    "collapsed": false,
    "jupyter": {
     "outputs_hidden": false
    }
   },
   "outputs": [],
   "source": [
    "p0c = 43.36e6  # reference momentum in eV/c\n",
    "\n",
    "screens = train_dset.screens\n",
    "\n",
    "l_quad = 0.11\n",
    "l_tdc = 0.01\n",
    "f_tdc = 1.3e9\n",
    "phi_tdc = 0.0\n",
    "l_bend = 0.3018\n",
    "theta_on = -20.0 * 3.14 / 180.0\n",
    "l1 = 0.790702\n",
    "l2 = 0.631698\n",
    "l3 = 0.889\n",
    "\n",
    "gpsr_lattice = GPSR6DLattice(\n",
    "    l_quad, l_tdc, f_tdc, phi_tdc, l_bend, theta_on, l1, l2, l3, *screens\n",
    ")"
   ]
  },
  {
   "cell_type": "markdown",
   "metadata": {
    "ExecuteTime": {
     "end_time": "2024-11-06T20:24:06.278607900Z",
     "start_time": "2024-11-06T20:24:05.111274600Z"
    }
   },
   "source": [
    "## Training using pytorch lightning"
   ]
  },
  {
   "cell_type": "code",
   "execution_count": null,
   "metadata": {
    "ExecuteTime": {
     "end_time": "2024-12-17T15:39:44.793575800Z",
     "start_time": "2024-12-17T15:38:56.895966Z"
    },
    "collapsed": false,
    "jupyter": {
     "outputs_hidden": false
    }
   },
   "outputs": [],
   "source": [
    "gpsr_model = GPSR(NNParticleBeamGenerator(10000, p0c), gpsr_lattice)\n",
    "train_loader = torch.utils.data.DataLoader(train_dset, batch_size=10)\n",
    "\n",
    "litgpsr = LitGPSR(gpsr_model)\n",
    "logger = L.pytorch.loggers.TensorBoardLogger(\n",
    "    \".\",\n",
    ")\n",
    "trainer = L.Trainer(max_epochs=500, logger=logger)\n",
    "trainer.fit(model=litgpsr, train_dataloaders=train_loader)"
   ]
  },
  {
   "cell_type": "code",
   "execution_count": null,
   "metadata": {
    "ExecuteTime": {
     "end_time": "2024-12-17T15:39:44.805574900Z",
     "start_time": "2024-12-17T15:39:44.792573500Z"
    },
    "collapsed": false,
    "jupyter": {
     "outputs_hidden": false
    }
   },
   "outputs": [],
   "source": [
    "reconstructed_beam = litgpsr.gpsr_model.beam_generator()"
   ]
  },
  {
   "cell_type": "code",
   "execution_count": null,
   "metadata": {
    "ExecuteTime": {
     "end_time": "2024-12-17T15:39:48.901323Z",
     "start_time": "2024-12-17T15:39:44.806575400Z"
    },
    "collapsed": false,
    "jupyter": {
     "outputs_hidden": false
    }
   },
   "outputs": [],
   "source": [
    "test_params = test_dset.six_d_parameters\n",
    "pred = tuple([ele.detach() for ele in gpsr_model(test_params)])\n",
    "pred_dset = SixDReconstructionDataset(test_params, pred, test_dset.screens)\n",
    "test_dset.plot_data(\n",
    "    publication_size=True,\n",
    "    overlay_data=pred_dset,\n",
    "    overlay_kwargs={\"cmap\": \"Greys\", \"levels\": [0.1, 0.5, 0.9]},\n",
    ");"
   ]
  },
  {
   "cell_type": "code",
   "execution_count": null,
   "metadata": {
    "ExecuteTime": {
     "end_time": "2024-12-17T15:40:19.537829Z",
     "start_time": "2024-12-17T15:40:17.307743200Z"
    },
    "collapsed": false,
    "jupyter": {
     "outputs_hidden": false
    }
   },
   "outputs": [],
   "source": [
    "reconstructed_beam.plot_distribution();"
   ]
  }
 ],
 "metadata": {
  "kernelspec": {
   "display_name": "gpsr",
   "language": "python",
   "name": "python3"
  },
  "language_info": {
   "codemirror_mode": {
    "name": "ipython",
    "version": 3
   },
   "file_extension": ".py",
   "mimetype": "text/x-python",
   "name": "python",
   "nbconvert_exporter": "python",
   "pygments_lexer": "ipython3",
   "version": "3.12.11"
  }
 },
 "nbformat": 4,
 "nbformat_minor": 4
}
