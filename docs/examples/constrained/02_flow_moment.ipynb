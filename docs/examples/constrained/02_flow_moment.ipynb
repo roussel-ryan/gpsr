{
 "cells": [
  {
   "cell_type": "markdown",
   "id": "eb1e1875-41a2-43ab-8959-ede9ddf2b6aa",
   "metadata": {},
   "source": [
    "# QP constrained optimization: Normalizing Flow with moment constraints"
   ]
  },
  {
   "cell_type": "markdown",
   "id": "97c2a660-3db6-40a9-9c65-b13d253f1f5c",
   "metadata": {},
   "source": [
    "* Objective: maximize absolute entropy.\n",
    "* Constraint: $\\Sigma = \\langle xx^T \\rangle = I$."
   ]
  },
  {
   "cell_type": "code",
   "execution_count": 1,
   "id": "0924f3cd-da09-4e93-91e6-e565670994d7",
   "metadata": {},
   "outputs": [],
   "source": [
    "import math\n",
    "from typing import Callable\n",
    "\n",
    "import torch\n",
    "import matplotlib.pyplot as plt\n",
    "from tqdm.notebook import trange\n",
    "\n",
    "import zuko"
   ]
  },
  {
   "cell_type": "code",
   "execution_count": 2,
   "id": "a49eec01-2a52-44dd-87eb-7de75b27645c",
   "metadata": {},
   "outputs": [],
   "source": [
    "class FlowDist(torch.nn.Module):\n",
    "    def __init__(\n",
    "        self,\n",
    "        ndim: int,\n",
    "        transforms: int = 3,\n",
    "        hidden_layers: int = 3,\n",
    "        hidden_units: int = 64,\n",
    "        **kwargs,\n",
    "    ) -> None:\n",
    "        super().__init__(**kwargs)\n",
    "\n",
    "        self.flow = zuko.flows.NSF(\n",
    "            features=ndim,\n",
    "            transforms=transforms,\n",
    "            hidden_features=(hidden_layers * [hidden_units]),\n",
    "        )\n",
    "        # Reverse for faster sampling\n",
    "        self.flow = zuko.flows.Flow(self.flow.transform.inv, self.flow.base)\n",
    "\n",
    "    def sample(self, n: int) -> torch.Tensor:\n",
    "        return self.flow().rsample((n,))\n",
    "\n",
    "    def log_prob(self, z: torch.Tensor) -> torch.Tensor:\n",
    "        return self.flow().log_prob(z)\n",
    "\n",
    "    def sample_and_log_prob(self, n: int) -> tuple[torch.Tensor, torch.Tensor]:\n",
    "        return self.flow().rsample_and_log_prob((n,))\n",
    "    \n",
    "    def entropy(self, n: int, prior=None) -> torch.Tensor:\n",
    "        x, log_p = self.sample_and_log_prob(n)\n",
    "        if prior is None:\n",
    "            log_q = torch.zeros(log_p.shape)\n",
    "        else:\n",
    "            log_q = prior.log_prob(x)\n",
    "        return -torch.mean(log_p - log_q)\n",
    "        "
   ]
  },
  {
   "cell_type": "code",
   "execution_count": 3,
   "id": "8be23b14",
   "metadata": {},
   "outputs": [],
   "source": [
    "class QPOptimizer:\n",
    "    def __init__(\n",
    "        self, \n",
    "        distribution: FlowDist,\n",
    "        optimizer: torch.optim.Optimizer, \n",
    "        constraint_function: Callable,\n",
    "        c: float= 1.0,\n",
    "        eps: float = 1.00e-12,\n",
    "        batch_size: int = 10_000,\n",
    "    ) -> None:\n",
    "        self.distribution = distribution\n",
    "        self.optimizer = optimizer\n",
    "        self.constraint_function = constraint_function\n",
    "        self.c = c\n",
    "        self.eps = eps\n",
    "        self.batch_size = batch_size        \n",
    "\n",
    "    def step(self) -> dict:\n",
    "        self.optimizer.zero_grad()\n",
    "\n",
    "        # Sample particles coordinates and density at each point\n",
    "        x, log_prob = self.distribution.sample_and_log_prob(self.batch_size)\n",
    "\n",
    "        # Compute objective function gradient\n",
    "        f = torch.mean(log_prob)\n",
    "        f.backward(retain_graph=True)\n",
    "\n",
    "        grads_f = []\n",
    "        for p in self.distribution.parameters():\n",
    "            if p.grad is not None:\n",
    "                grads_f.append(p.grad.clone())\n",
    "\n",
    "        for p in self.distribution.parameters():\n",
    "            p.grad.zero_()\n",
    "\n",
    "        # Compute constraint function gradient\n",
    "        g = self.constraint_function(x)\n",
    "        g.backward()\n",
    "\n",
    "        grads_g = []\n",
    "        for p in self.distribution.parameters():\n",
    "            if p.grad is not None:\n",
    "                grads_g.append(p.grad.clone())\n",
    "\n",
    "        # Step optimizer with mixed gradient\n",
    "        with torch.no_grad():\n",
    "            grad_f_vec = torch.hstack([grad.ravel() for grad in grads_f])\n",
    "            grad_g_vec = torch.hstack([grad.ravel() for grad in grads_g])\n",
    "            alpha = max(0.0, -torch.dot(grad_f_vec, grad_g_vec) + self.c * g) / max(torch.linalg.norm(grad_g_vec)**2, self.eps)\n",
    "            \n",
    "            for i, p in enumerate(self.distribution.parameters()):\n",
    "                p.grad = grads_f[i] + alpha * grads_g[i]\n",
    "\n",
    "            self.optimizer.step()\n",
    "\n",
    "        output = {}\n",
    "        output[\"f\"] = f.detach()\n",
    "        output[\"g\"] = g.detach()\n",
    "        return output"
   ]
  },
  {
   "cell_type": "code",
   "execution_count": 4,
   "id": "0f66c291-1d39-4d3a-9b0b-afe8e6bfdcd1",
   "metadata": {},
   "outputs": [],
   "source": [
    "def constraint_function(x: torch.Tensor) -> torch.Tensor:\n",
    "    x_avg = torch.mean(x, axis=0)\n",
    "    x_cov = torch.cov(x.T)\n",
    "\n",
    "    loss = 0.0\n",
    "    # loss += torch.mean(torch.square(x_avg - 0.0))\n",
    "    loss += torch.mean(torch.square(x_cov - torch.eye(x.shape[1])))\n",
    "    return loss"
   ]
  },
  {
   "cell_type": "code",
   "execution_count": 9,
   "id": "ee6adfc9-2c0d-4f9a-9e0c-d8596ab7b5b4",
   "metadata": {},
   "outputs": [
    {
     "data": {
      "application/vnd.jupyter.widget-view+json": {
       "model_id": "55af0cb0a15d4538aa2dc58124d03e24",
       "version_major": 2,
       "version_minor": 0
      },
      "text/plain": [
       "  0%|          | 0/50 [00:00<?, ?it/s]"
      ]
     },
     "metadata": {},
     "output_type": "display_data"
    },
    {
     "data": {
      "application/vnd.jupyter.widget-view+json": {
       "model_id": "b6363732522b4914af2b5c8d5497acc6",
       "version_major": 2,
       "version_minor": 0
      },
      "text/plain": [
       "  0%|          | 0/300 [00:00<?, ?it/s]"
      ]
     },
     "metadata": {},
     "output_type": "display_data"
    }
   ],
   "source": [
    "ndim = 2\n",
    "c = 1.0\n",
    "\n",
    "distribution = FlowDist(ndim=ndim)\n",
    "    \n",
    "optimizer = torch.optim.Adam(distribution.parameters(), lr=0.005)\n",
    "\n",
    "qp_optimizer = QPOptimizer(\n",
    "    distribution=distribution,\n",
    "    optimizer=optimizer,\n",
    "    constraint_function=constraint_function,\n",
    "    c=c,\n",
    "    batch_size=10_000,\n",
    ")\n",
    "\n",
    "for iteration in trange(50):\n",
    "    optimizer.zero_grad()\n",
    "    loss = -distribution.entropy(1000)\n",
    "    loss.backward()\n",
    "    optimizer.step()\n",
    "\n",
    "history = {\"f\": [], \"g\": []}\n",
    "for iteration in trange(300):\n",
    "    output = qp_optimizer.step()\n",
    "\n",
    "    history[\"f\"].append(output[\"f\"])\n",
    "    history[\"g\"].append(output[\"g\"])\n",
    "\n",
    "    if iteration > 100:\n",
    "        for param_group in optimizer.param_groups:\n",
    "            param_group[\"lr\"] *= 0.5\n",
    "            param_group[\"lr\"] = max(param_group[\"lr\"], 0.001)\n"
   ]
  },
  {
   "cell_type": "code",
   "execution_count": 10,
   "id": "b48604ce-a9ad-49e0-868a-108060772638",
   "metadata": {},
   "outputs": [
    {
     "data": {
      "image/png": "[encoded data removed]",
      "text/plain": [
       "<Figure size 700x200 with 2 Axes>"
      ]
     },
     "metadata": {},
     "output_type": "display_data"
    }
   ],
   "source": [
    "fig, axs = plt.subplots(ncols=2, figsize=(7.0, 2.0), sharex=True)\n",
    "axs[0].plot(history[\"f\"])\n",
    "axs[1].plot(history[\"g\"])\n",
    "axs[1].set_ylim(0.0, axs[1].get_ylim()[1])\n",
    "axs[0].set_title(\"Objective (f)\", fontsize=\"medium\")\n",
    "axs[1].set_title(\"Constraint (g)\", fontsize=\"medium\")\n",
    "for ax in axs:\n",
    "    ax.set_xlabel(\"Iteration\")\n",
    "\n",
    "entropy_targ = (0.5 * ndim) * (1.0 + math.log(2.0 * math.pi)) + 0.5 * (1.0)\n",
    "axs[0].axhline(-entropy_targ, color=\"black\", alpha=0.25)\n",
    "plt.show()"
   ]
  },
  {
   "cell_type": "code",
   "execution_count": 11,
   "id": "420fc214-5ba0-4b7d-99aa-03eacb41f267",
   "metadata": {},
   "outputs": [
    {
     "data": {
      "image/png": "[encoded data removed]",
      "text/plain": [
       "<Figure size 450x200 with 2 Axes>"
      ]
     },
     "metadata": {},
     "output_type": "display_data"
    }
   ],
   "source": [
    "with torch.no_grad():\n",
    "    x_pred = distribution.sample(500_000)\n",
    "    x_true = torch.randn(x_pred.shape)\n",
    "    fig, axs = plt.subplots(figsize=(4.5, 2.0), ncols=2, sharex=True, sharey=True)\n",
    "    xmax = 4.0\n",
    "    for x, ax in zip([x_pred, x_true], axs):\n",
    "        ax.hist2d(x[:, 0], x[:, 1], bins=64, range=[(-xmax, xmax), (-xmax, xmax)])\n",
    "    axs[0].set_title(\"Model\", fontsize=\"medium\")\n",
    "    axs[1].set_title(\"Exact\", fontsize=\"medium\")\n",
    "    plt.show()"
   ]
  },
  {
   "cell_type": "code",
   "execution_count": 12,
   "id": "52795bc2-c979-4a78-b086-4692fe7d89a7",
   "metadata": {},
   "outputs": [
    {
     "name": "stdout",
     "output_type": "stream",
     "text": [
      "tensor([-0.0008, -0.0007])\n",
      "tensor([[0.0025, 0.0001],\n",
      "        [0.0001, 0.0042]])\n"
     ]
    }
   ],
   "source": [
    "print(torch.mean(x, axis=0))\n",
    "print(torch.cov(x.T) - torch.eye(ndim))"
   ]
  },
  {
   "cell_type": "code",
   "execution_count": null,
   "id": "1ba0681a",
   "metadata": {},
   "outputs": [],
   "source": []
  }
 ],
 "metadata": {
  "kernelspec": {
   "display_name": "gpsr",
   "language": "python",
   "name": "python3"
  },
  "language_info": {
   "codemirror_mode": {
    "name": "ipython",
    "version": 3
   },
   "file_extension": ".py",
   "mimetype": "text/x-python",
   "name": "python",
   "nbconvert_exporter": "python",
   "pygments_lexer": "ipython3",
   "version": "3.12.10"
  }
 },
 "nbformat": 4,
 "nbformat_minor": 5
}
