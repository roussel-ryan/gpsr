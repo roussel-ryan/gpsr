{
 "cells": [
  {
   "cell_type": "markdown",
   "id": "eb1e1875-41a2-43ab-8959-ede9ddf2b6aa",
   "metadata": {},
   "source": [
    "# QP constrained optimization test"
   ]
  },
  {
   "cell_type": "markdown",
   "id": "b2d46ef1",
   "metadata": {},
   "source": [
    "This notebook demonstrates the QP-based gradient descent algorithm described in https://arxiv.org/abs/2412.13403."
   ]
  },
  {
   "cell_type": "code",
   "execution_count": null,
   "id": "0924f3cd-da09-4e93-91e6-e565670994d7",
   "metadata": {},
   "outputs": [],
   "source": [
    "from typing import Callable\n",
    "\n",
    "import torch\n",
    "import matplotlib.pyplot as plt\n",
    "from matplotlib.patches import Circle"
   ]
  },
  {
   "cell_type": "markdown",
   "id": "97c2a660-3db6-40a9-9c65-b13d253f1f5c",
   "metadata": {},
   "source": [
    "Create objective function and constraint."
   ]
  },
  {
   "cell_type": "code",
   "execution_count": null,
   "id": "6b6012ba-1507-4c57-ac06-791f1d658bde",
   "metadata": {},
   "outputs": [],
   "source": [
    "def objective_function(x: torch.Tensor) -> torch.Tensor:\n",
    "    return torch.sum(torch.square(x))"
   ]
  },
  {
   "cell_type": "code",
   "execution_count": null,
   "id": "d17524a2-2b07-4994-819a-6e6e8f210b84",
   "metadata": {},
   "outputs": [],
   "source": [
    "def constraint_function(x: torch.Tensor) -> torch.Tensor:\n",
    "    xn = x - torch.tensor([2.0, 2.0])\n",
    "    return torch.norm(xn) - 1.0"
   ]
  },
  {
   "cell_type": "code",
   "execution_count": null,
   "id": "625ca460-85d7-453d-b831-6b159b3bf5fb",
   "metadata": {},
   "outputs": [],
   "source": [
    "xmax = 4.0\n",
    "grid_coords = 2 * [torch.linspace(-xmax, xmax, 100)]\n",
    "grid_points = torch.stack([c.ravel() for c in torch.meshgrid(*grid_coords, indexing=\"ij\")], axis=-1)\n",
    "\n",
    "grid_values = torch.zeros(grid_points.shape[0])\n",
    "for i, x in enumerate(grid_points):\n",
    "    grid_values[i] = objective_function(x)\n",
    "grid_values = torch.reshape(grid_values, (100, 100))\n",
    "\n",
    "fig, ax = plt.subplots(figsize=(3, 3))\n",
    "ax.contour(grid_coords[0], grid_coords[1], grid_values.T, colors=\"black\", levels=20, alpha=0.1)\n",
    "ax.add_patch(Circle([2.0, 2.0], 1.0, color=\"red\", ec=\"none\", alpha=0.5))\n",
    "ax.set_xlim(-xmax, xmax)\n",
    "ax.set_ylim(-xmax, xmax)\n",
    "plt.show()"
   ]
  },
  {
   "cell_type": "markdown",
   "id": "2a3b50a1-72b4-4824-a0f0-63e11325b9c1",
   "metadata": {},
   "source": [
    "Optimize using QP method."
   ]
  },
  {
   "cell_type": "code",
   "execution_count": null,
   "id": "c631607c",
   "metadata": {},
   "outputs": [],
   "source": [
    "def step_optimizer(\n",
    "    optimizer: torch.optim.Optimizer, \n",
    "    objective_function: Callable, \n",
    "    constraint_function: Callable,\n",
    "    x: torch.Tensor,\n",
    "    c: float = 1.0,\n",
    "    eps: float = 1.00e-12\n",
    ") -> None:\n",
    "    \"\"\"Step optimizer using mixed gradient.\"\"\"    \n",
    "    optimizer.zero_grad()\n",
    "    \n",
    "    f = objective_function(x)    \n",
    "    f.backward()\n",
    "    grad_f = x.grad.clone().detach()\n",
    "\n",
    "    x.grad.zero_()\n",
    "    \n",
    "    g = constraint_function(x)\n",
    "    g.backward()\n",
    "    grad_g = x.grad.clone().detach()\n",
    "    \n",
    "    with torch.no_grad():\n",
    "        alpha = max(0.0, -torch.dot(grad_f, grad_g) + c * g) / max(eps, torch.linalg.norm(grad_g)**2)\n",
    "        x.grad = grad_f + alpha * grad_g\n",
    "        optimizer.step()"
   ]
  },
  {
   "cell_type": "code",
   "execution_count": null,
   "id": "420fc214-5ba0-4b7d-99aa-03eacb41f267",
   "metadata": {},
   "outputs": [],
   "source": [
    "x = torch.tensor([3.0, -3.0], requires_grad=True)\n",
    "c = torch.tensor(4.0)  # rate of approach to constraint boundary\n",
    "\n",
    "optimizer = torch.optim.Adam([x,], lr=0.1)\n",
    "\n",
    "path = [x.clone().detach()]\n",
    "for i in range(100):\n",
    "    step_optimizer(optimizer, objective_function, constraint_function, x, c)\n",
    "    path.append(x.clone().detach())\n",
    "path = torch.stack(path)"
   ]
  },
  {
   "cell_type": "code",
   "execution_count": null,
   "id": "384e4cc9-e160-401f-9851-9b70d40eeab9",
   "metadata": {},
   "outputs": [],
   "source": [
    "fig, ax = plt.subplots(figsize=(3, 3))\n",
    "ax.contour(grid_coords[0], grid_coords[1], grid_values.T, colors=\"black\", levels=20, alpha=0.1)\n",
    "ax.add_patch(Circle([2.0, 2.0], 1.0, color=\"red\", ec=\"none\", alpha=0.5))\n",
    "ax.plot(path[:, 0], path[:, 1], color=\"black\", marker=\".\")\n",
    "ax.set_xlim(-xmax, xmax)\n",
    "ax.set_ylim(-xmax, xmax)\n",
    "plt.show()"
   ]
  },
  {
   "cell_type": "code",
   "execution_count": null,
   "id": "a6d0c545-3b0b-45a6-be91-7a2d7d76b516",
   "metadata": {},
   "outputs": [],
   "source": []
  }
 ],
 "metadata": {
  "kernelspec": {
   "display_name": "gpsr",
   "language": "python",
   "name": "python3"
  },
  "language_info": {
   "codemirror_mode": {
    "name": "ipython",
    "version": 3
   },
   "file_extension": ".py",
   "mimetype": "text/x-python",
   "name": "python",
   "nbconvert_exporter": "python",
   "pygments_lexer": "ipython3",
   "version": "3.12.10"
  }
 },
 "nbformat": 4,
 "nbformat_minor": 5
}
