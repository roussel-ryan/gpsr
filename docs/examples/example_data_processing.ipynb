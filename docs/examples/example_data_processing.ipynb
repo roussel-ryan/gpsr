{
 "cells": [
  {
   "cell_type": "markdown",
   "id": "4b4fe1d6",
   "metadata": {},
   "source": [
    "## Demonstrate data processing functionality"
   ]
  },
  {
   "cell_type": "markdown",
   "id": "c14fe6e4",
   "metadata": {},
   "source": [
    "### Generate test images"
   ]
  },
  {
   "cell_type": "code",
   "execution_count": null,
   "id": "8762883b",
   "metadata": {},
   "outputs": [],
   "source": [
    "import numpy as np\n",
    "\n",
    "import matplotlib.pyplot as plt\n",
    "\n",
    "\n",
    "def generate_circle_images(num_images=10, image_size=64, min_radius=5, max_radius=15):\n",
    "    images = []\n",
    "    center_margin = image_size // 4  # restrict centers to the central region\n",
    "    center_min = center_margin\n",
    "    center_max = image_size - center_margin\n",
    "    for _ in range(num_images):\n",
    "        img = np.zeros((image_size, image_size * 2), dtype=np.float32)\n",
    "        for _ in range(1):\n",
    "            radius = np.random.randint(min_radius, max_radius)\n",
    "            x_center = np.random.randint(center_min, center_max)\n",
    "            y_center = np.random.randint(center_min, center_max)\n",
    "            y, x = np.ogrid[:image_size, : image_size * 2]\n",
    "            mask = (x - x_center) ** 2 + (y - y_center) ** 2 <= radius**2\n",
    "            img[mask] = 1.0\n",
    "        images.append(img)\n",
    "    return images\n",
    "\n",
    "\n",
    "# Example usage and visualization\n",
    "images = generate_circle_images(num_images=5, image_size=64)\n",
    "fig, axs = plt.subplots(1, 5, figsize=(15, 3))\n",
    "for ax, img in zip(axs, images):\n",
    "    ax.imshow(img)"
   ]
  },
  {
   "cell_type": "markdown",
   "id": "df07853f",
   "metadata": {},
   "source": [
    "### Process images without centering"
   ]
  },
  {
   "cell_type": "code",
   "execution_count": null,
   "id": "e2a9fcb2",
   "metadata": {},
   "outputs": [],
   "source": [
    "## use process images\n",
    "from gpsr.data_processing import process_images\n",
    "\n",
    "processed_images_dict = process_images(\n",
    "    np.array(images),\n",
    "    pixel_size=1.0,\n",
    ")\n",
    "\n",
    "# Show the processed images\n",
    "img_size = processed_images_dict[\"images\"][0].shape\n",
    "fig2, axs2 = plt.subplots(1, len(processed_images_dict[\"images\"]), figsize=(15, 3))\n",
    "for ax, img in zip(axs2, processed_images_dict[\"images\"]):\n",
    "    ax.imshow(img)\n",
    "    ax.plot(img_size[1] / 2, img_size[0] / 2, \"rx\", markersize=10, markeredgewidth=2)"
   ]
  },
  {
   "cell_type": "markdown",
   "id": "a73a5f49",
   "metadata": {},
   "source": [
    "### Process images with centering"
   ]
  },
  {
   "cell_type": "code",
   "execution_count": null,
   "id": "9d903b91",
   "metadata": {},
   "outputs": [],
   "source": [
    "## use process images\n",
    "from gpsr.data_processing import process_images\n",
    "\n",
    "processed_images_dict = process_images(\n",
    "    np.array(images),\n",
    "    pixel_size=1.0,\n",
    "    n_stds=2,\n",
    "    center=True,\n",
    "    visualize=True,\n",
    ")\n",
    "\n",
    "# Show the processed images\n",
    "img_size = processed_images_dict[\"images\"][0].shape\n",
    "fig2, axs2 = plt.subplots(1, len(processed_images_dict[\"images\"]), figsize=(15, 3))\n",
    "for ax, img in zip(axs2, processed_images_dict[\"images\"]):\n",
    "    ax.imshow(img)\n",
    "    ax.plot(img_size[1] / 2, img_size[0] / 2, \"rx\", markersize=10, markeredgewidth=2)"
   ]
  },
  {
   "cell_type": "code",
   "execution_count": null,
   "id": "102f95c6",
   "metadata": {},
   "outputs": [],
   "source": []
  }
 ],
 "metadata": {
  "kernelspec": {
   "display_name": "csr-psr",
   "language": "python",
   "name": "python3"
  },
  "language_info": {
   "codemirror_mode": {
    "name": "ipython",
    "version": 3
   },
   "file_extension": ".py",
   "mimetype": "text/x-python",
   "name": "python",
   "nbconvert_exporter": "python",
   "pygments_lexer": "ipython3",
   "version": "3.12.11"
  }
 },
 "nbformat": 4,
 "nbformat_minor": 5
}
