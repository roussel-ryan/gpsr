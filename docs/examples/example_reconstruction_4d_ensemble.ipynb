{
 "cells": [
  {
   "cell_type": "code",
   "execution_count": null,
   "metadata": {
    "ExecuteTime": {
     "end_time": "2024-11-08T20:30:56.847994300Z",
     "start_time": "2024-11-08T20:30:53.529056300Z"
    }
   },
   "outputs": [],
   "source": [
    "import numpy as np\n",
    "import torch\n",
    "from gpsr.modeling import GPSRQuadScanLattice\n",
    "from gpsr.datasets import split_dataset\n",
    "from gpsr.ensemble import (\n",
    "    train_ensemble,\n",
    "    plot_2d_distribution,\n",
    "    compute_mean_and_confidence_interval,\n",
    ")\n",
    "\n",
    "from gpsr.datasets import QuadScanDataset"
   ]
  },
  {
   "cell_type": "code",
   "execution_count": null,
   "metadata": {},
   "outputs": [],
   "source": [
    "# load dataset\n",
    "dset = torch.load(\n",
    "    \"example_data/example_datasets/reconstruction_4D.dset\", weights_only=False\n",
    ")\n",
    "print(\n",
    "    dset.parameters.shape,\n",
    "    dset.observations[0].shape,\n",
    "    dset.screen,\n",
    ")\n",
    "dset.plot_data();"
   ]
  },
  {
   "cell_type": "code",
   "execution_count": null,
   "metadata": {},
   "outputs": [],
   "source": [
    "# split dataset into training and test sets\n",
    "train_k_ids = np.arange(0, len(dset.parameters), 2)\n",
    "train_dset, test_dset = split_dataset(dset, train_k_ids)"
   ]
  },
  {
   "cell_type": "code",
   "execution_count": null,
   "metadata": {},
   "outputs": [],
   "source": [
    "train_dset.plot_data();"
   ]
  },
  {
   "cell_type": "code",
   "execution_count": null,
   "metadata": {
    "ExecuteTime": {
     "end_time": "2024-11-08T20:30:56.879994300Z",
     "start_time": "2024-11-08T20:30:56.865995200Z"
    }
   },
   "outputs": [],
   "source": [
    "# create diagnostic lattice\n",
    "p0c = 43.36e6  # reference momentum in eV/c\n",
    "gpsr_lattice = GPSRQuadScanLattice(l_quad=0.1, l_drift=1.0, screen=train_dset.screen)"
   ]
  },
  {
   "cell_type": "code",
   "execution_count": null,
   "metadata": {
    "ExecuteTime": {
     "end_time": "2024-11-08T20:31:16.108097100Z",
     "start_time": "2024-11-08T20:30:56.880995800Z"
    }
   },
   "outputs": [],
   "source": [
    "train_loader = torch.utils.data.DataLoader(train_dset, batch_size=20)\n",
    "\n",
    "result = train_ensemble(\n",
    "    gpsr_lattice, train_loader, n_models=10, n_epochs=500, checkpoint_period_epochs=100\n",
    ")"
   ]
  },
  {
   "cell_type": "code",
   "execution_count": null,
   "metadata": {
    "ExecuteTime": {
     "end_time": "2024-11-08T20:31:16.167096700Z",
     "start_time": "2024-11-08T20:31:16.112098200Z"
    },
    "collapsed": false,
    "jupyter": {
     "outputs_hidden": false
    }
   },
   "outputs": [],
   "source": [
    "reconstructed_beams = [ele.beam_generator() for ele in result]"
   ]
  },
  {
   "cell_type": "code",
   "execution_count": null,
   "metadata": {},
   "outputs": [],
   "source": [
    "plot_2d_distribution(\n",
    "    reconstructed_beams, \"x\", \"py\", smoothing_factor=1, ci_kws={\"vmax\": 2}\n",
    ")"
   ]
  },
  {
   "cell_type": "markdown",
   "metadata": {},
   "source": [
    "## Evaluate model on test samples to compare predictions"
   ]
  },
  {
   "cell_type": "code",
   "execution_count": null,
   "metadata": {},
   "outputs": [],
   "source": [
    "test_pred = torch.stack([ele(test_dset.parameters)[0].detach() for ele in result])\n",
    "\n",
    "mean, nci = compute_mean_and_confidence_interval(test_pred.cpu())\n",
    "\n",
    "mean_dset = QuadScanDataset(test_dset.parameters, (mean,), train_dset.screen)\n",
    "nci_dset = QuadScanDataset(test_dset.parameters, (nci,), train_dset.screen)"
   ]
  },
  {
   "cell_type": "code",
   "execution_count": null,
   "metadata": {
    "ExecuteTime": {
     "end_time": "2024-11-08T20:31:18.360083500Z",
     "start_time": "2024-11-08T20:31:16.665097800Z"
    },
    "collapsed": false,
    "jupyter": {
     "outputs_hidden": false
    }
   },
   "outputs": [],
   "source": [
    "fig, ax = test_dset.plot_data(overlay_data=mean_dset)\n",
    "fig.set_size_inches(20, 3)"
   ]
  },
  {
   "cell_type": "markdown",
   "metadata": {},
   "source": [
    "### visualize normalized confidence interval"
   ]
  },
  {
   "cell_type": "code",
   "execution_count": null,
   "metadata": {
    "collapsed": false,
    "jupyter": {
     "outputs_hidden": false
    }
   },
   "outputs": [],
   "source": [
    "import matplotlib.pyplot as plt\n",
    "\n",
    "fig, ax = plt.subplots(\n",
    "    1, len(test_dset.parameters), figsize=(20, 3), sharex=True, sharey=True\n",
    ")\n",
    "\n",
    "xbins, ybins = nci_dset.screen.pixel_bin_centers\n",
    "xx = torch.meshgrid(xbins * 1e3, ybins * 1e3, indexing=\"ij\")\n",
    "\n",
    "for i in range(len(test_dset.parameters)):\n",
    "    c = ax[i].pcolormesh(*xx, nci_dset.observations[0][i], vmin=0, vmax=2)\n",
    "fig.colorbar(c, ax=ax, label=\"nci\")"
   ]
  }
 ],
 "metadata": {
  "kernelspec": {
   "display_name": "csr-psr",
   "language": "python",
   "name": "python3"
  },
  "language_info": {
   "codemirror_mode": {
    "name": "ipython",
    "version": 3
   },
   "file_extension": ".py",
   "mimetype": "text/x-python",
   "name": "python",
   "nbconvert_exporter": "python",
   "pygments_lexer": "ipython3",
   "version": "3.12.11"
  }
 },
 "nbformat": 4,
 "nbformat_minor": 4
}
